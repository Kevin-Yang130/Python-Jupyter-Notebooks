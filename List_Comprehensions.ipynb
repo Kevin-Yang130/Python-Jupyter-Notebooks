{
 "cells": [
  {
   "cell_type": "markdown",
   "id": "c4fc6202",
   "metadata": {},
   "source": [
    "# List Comprehensions"
   ]
  },
  {
   "cell_type": "code",
   "execution_count": 1,
   "id": "63c31d71",
   "metadata": {},
   "outputs": [],
   "source": [
    "mystring = 'hello'"
   ]
  },
  {
   "cell_type": "code",
   "execution_count": 2,
   "id": "a9aba876",
   "metadata": {},
   "outputs": [],
   "source": [
    "mylist = []\n",
    "for letter in mystring:\n",
    "    mylist.append(letter)"
   ]
  },
  {
   "cell_type": "code",
   "execution_count": 3,
   "id": "25be9757",
   "metadata": {},
   "outputs": [
    {
     "data": {
      "text/plain": [
       "['h', 'e', 'l', 'l', 'o']"
      ]
     },
     "execution_count": 3,
     "metadata": {},
     "output_type": "execute_result"
    }
   ],
   "source": [
    "mylist"
   ]
  },
  {
   "cell_type": "markdown",
   "id": "b281af21",
   "metadata": {},
   "source": [
    "List Comprehensions are a flattened out for-loop.The only action that happens inside the for-loop is appending an element of an interable object"
   ]
  },
  {
   "cell_type": "code",
   "execution_count": 8,
   "id": "26dd0b1e",
   "metadata": {},
   "outputs": [],
   "source": [
    "mylist = [letter for letter in mystring]"
   ]
  },
  {
   "cell_type": "code",
   "execution_count": 5,
   "id": "f468475c",
   "metadata": {},
   "outputs": [
    {
     "data": {
      "text/plain": [
       "['h', 'e', 'l', 'l', 'o']"
      ]
     },
     "execution_count": 5,
     "metadata": {},
     "output_type": "execute_result"
    }
   ],
   "source": [
    "mylist"
   ]
  },
  {
   "cell_type": "code",
   "execution_count": 6,
   "id": "8f5ea970",
   "metadata": {},
   "outputs": [],
   "source": [
    "mylist = [x for x in 'word']"
   ]
  },
  {
   "cell_type": "code",
   "execution_count": 7,
   "id": "505a95f0",
   "metadata": {},
   "outputs": [
    {
     "data": {
      "text/plain": [
       "['w', 'o', 'r', 'd']"
      ]
     },
     "execution_count": 7,
     "metadata": {},
     "output_type": "execute_result"
    }
   ],
   "source": [
    "mylist"
   ]
  },
  {
   "cell_type": "code",
   "execution_count": 9,
   "id": "29f27ce9",
   "metadata": {},
   "outputs": [],
   "source": [
    "mylist = [i for i in range(3, 10)]"
   ]
  },
  {
   "cell_type": "code",
   "execution_count": 10,
   "id": "0b30a1b8",
   "metadata": {},
   "outputs": [
    {
     "data": {
      "text/plain": [
       "[3, 4, 5, 6, 7, 8, 9]"
      ]
     },
     "execution_count": 10,
     "metadata": {},
     "output_type": "execute_result"
    }
   ],
   "source": [
    "mylist"
   ]
  },
  {
   "cell_type": "code",
   "execution_count": 11,
   "id": "1d9fcd63",
   "metadata": {},
   "outputs": [],
   "source": [
    "mylist = [num for num in range(7,10)]"
   ]
  },
  {
   "cell_type": "markdown",
   "id": "6bf42d9f",
   "metadata": {},
   "source": [
    "If we want to do any sort of operation, we perform it in the first instance of whatever we call our temporary variable or iterator"
   ]
  },
  {
   "cell_type": "code",
   "execution_count": 19,
   "id": "e3e74ecc",
   "metadata": {},
   "outputs": [
    {
     "data": {
      "text/plain": [
       "[0, 1, 4, 9, 16, 25, 36, 49, 64, 81, 100]"
      ]
     },
     "execution_count": 19,
     "metadata": {},
     "output_type": "execute_result"
    }
   ],
   "source": [
    "mylist = [num**2 for num in range(0,11)]\n",
    " \n",
    "#THE CODE ABOVE IS THE SAME AS THIS:\n",
    "mylist = []\n",
    "for num in range(0,11):\n",
    "    mylist.append(num**2)\n",
    "mylist"
   ]
  },
  {
   "cell_type": "code",
   "execution_count": 16,
   "id": "682a0163",
   "metadata": {},
   "outputs": [
    {
     "data": {
      "text/plain": [
       "[0, 1, 4, 9, 16, 25, 36, 49, 64, 81, 100]"
      ]
     },
     "execution_count": 16,
     "metadata": {},
     "output_type": "execute_result"
    }
   ],
   "source": [
    "mylist"
   ]
  },
  {
   "cell_type": "markdown",
   "id": "683aa4d8",
   "metadata": {},
   "source": [
    "We can also add if-statements to the list Comprehensions"
   ]
  },
  {
   "cell_type": "code",
   "execution_count": 24,
   "id": "4c6ffdc6",
   "metadata": {},
   "outputs": [
    {
     "data": {
      "text/plain": [
       "[0, 2, 4, 6, 8, 10]"
      ]
     },
     "execution_count": 24,
     "metadata": {},
     "output_type": "execute_result"
    }
   ],
   "source": [
    "mylist = [x for x  in range(0,11) if x % 2 == 0]\n",
    "#THE LINE OF CODE ABOVE IS THE SAME AS THIS\n",
    "mylist = []\n",
    "for x in range(0,11):\n",
    "    if x % 2 == 0:\n",
    "        mylist.append(x)\n",
    "mylist"
   ]
  },
  {
   "cell_type": "code",
   "execution_count": 22,
   "id": "74d31a61",
   "metadata": {},
   "outputs": [
    {
     "data": {
      "text/plain": [
       "[0, 2, 4, 6, 8, 10]"
      ]
     },
     "execution_count": 22,
     "metadata": {},
     "output_type": "execute_result"
    }
   ],
   "source": [
    "mylist"
   ]
  },
  {
   "cell_type": "markdown",
   "id": "b09d1969",
   "metadata": {},
   "source": [
    "List Comprehensions can be useful in many cases. For example, if we need to undergo every single element of an array through a certain conversion, using a list comprehension will certainly be useful."
   ]
  },
  {
   "cell_type": "code",
   "execution_count": 25,
   "id": "21bc4e06",
   "metadata": {},
   "outputs": [],
   "source": [
    "celcius = [0,10,20,30]\n",
    "farenheit = [(9/5)*temp + 32 for temp in celcius]"
   ]
  },
  {
   "cell_type": "code",
   "execution_count": 28,
   "id": "d84d343a",
   "metadata": {},
   "outputs": [
    {
     "data": {
      "text/plain": [
       "[32.0, 50.0, 68.0, 86.0]"
      ]
     },
     "execution_count": 28,
     "metadata": {},
     "output_type": "execute_result"
    }
   ],
   "source": [
    "farenheit"
   ]
  },
  {
   "cell_type": "code",
   "execution_count": 29,
   "id": "563d9d29",
   "metadata": {},
   "outputs": [],
   "source": [
    "#LONG VERSION\n",
    "farenheit = []\n",
    "for temp in celcius:\n",
    "    farenheit.append((9/5)*temp + 32)\n",
    "    \n",
    "#SHORT CUT VERSION\n",
    "farenheit = [(9/5)*temp + 32 for temp in celcius]"
   ]
  },
  {
   "cell_type": "markdown",
   "id": "aa151663",
   "metadata": {},
   "source": [
    "If we want to add an else-statement to the list comprehension, the order is flipped. We insert the if-else statement after the first instance of the iterating variable and NOT at the end"
   ]
  },
  {
   "cell_type": "code",
   "execution_count": 30,
   "id": "52462a81",
   "metadata": {},
   "outputs": [],
   "source": [
    "mylist = [ x if x % 2 == 0 else 'ODD' for x in range(0,11)]"
   ]
  },
  {
   "cell_type": "markdown",
   "id": "b73812e7",
   "metadata": {},
   "source": [
    "We can also perform double for loops in a list comprehension. The first statement we put is whatever we want to append and then the two for loops that follow it. Ex:"
   ]
  },
  {
   "cell_type": "code",
   "execution_count": 31,
   "id": "7fa8a7fe",
   "metadata": {},
   "outputs": [
    {
     "data": {
      "text/plain": [
       "[2, 20, 2000, 4, 40, 4000, 6, 60, 6000]"
      ]
     },
     "execution_count": 31,
     "metadata": {},
     "output_type": "execute_result"
    }
   ],
   "source": [
    "#REGULAR WAY\n",
    "mylist =[]\n",
    "for x in [2,4,6]:\n",
    "    for y in [1,10, 1000]:\n",
    "        mylist.append(x*y)\n",
    "mylist"
   ]
  },
  {
   "cell_type": "code",
   "execution_count": 33,
   "id": "799645fb",
   "metadata": {},
   "outputs": [
    {
     "data": {
      "text/plain": [
       "[2, 20, 2000, 4, 40, 4000, 6, 60, 6000]"
      ]
     },
     "execution_count": 33,
     "metadata": {},
     "output_type": "execute_result"
    }
   ],
   "source": [
    "#LIST COMPREHENSION WAY\n",
    "mylist = [x*y for x in [2,4,6] for y in [1,10,1000]]\n",
    "mylist"
   ]
  }
 ],
 "metadata": {
  "kernelspec": {
   "display_name": "Python 3 (ipykernel)",
   "language": "python",
   "name": "python3"
  },
  "language_info": {
   "codemirror_mode": {
    "name": "ipython",
    "version": 3
   },
   "file_extension": ".py",
   "mimetype": "text/x-python",
   "name": "python",
   "nbconvert_exporter": "python",
   "pygments_lexer": "ipython3",
   "version": "3.10.9"
  }
 },
 "nbformat": 4,
 "nbformat_minor": 5
}
